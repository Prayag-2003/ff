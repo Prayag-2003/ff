{
  "nbformat": 4,
  "nbformat_minor": 0,
  "metadata": {
    "colab": {
      "provenance": []
    },
    "kernelspec": {
      "name": "python3",
      "display_name": "Python 3"
    },
    "language_info": {
      "name": "python"
    }
  },
  "cells": [
    {
      "cell_type": "code",
      "execution_count": null,
      "metadata": {
        "id": "Gd-gKNmgOYC_"
      },
      "outputs": [],
      "source": [
        "'''1.What is Python, and why is it popular?\n",
        "    -Python is a programming language that is easy to understand and write, making it a popular choice among developers and programmers.\n",
        "     1.Ease of Learning\n",
        "     2.Versatility\n",
        "     3.Flexibility\n",
        "     4.Very large Libraries and Frameworks\n",
        "     5.Simplicity\n",
        "'''"
      ]
    },
    {
      "cell_type": "code",
      "source": [
        "''' 2.What is an interpreter in Python?\n",
        "    -A program that reads and executes Python code line by line.\n",
        "'''"
      ],
      "metadata": {
        "id": "S9gQK64uUvXI"
      },
      "execution_count": null,
      "outputs": []
    },
    {
      "cell_type": "code",
      "source": [
        "'''3.What are pre-defined keywords in Python?\n",
        "    -They are predefined words that hold a special meaning and have a specific purpose.\n",
        "    Here is a list of the Python keywords.  Enter any keyword to get more help.\n",
        "\n",
        "False               class               from                or\n",
        "None                continue            global              pass\n",
        "True                def                 if                  raise\n",
        "and                 del                 import              return\n",
        "as                  elif                in                  try\n",
        "assert              else                is                  while\n",
        "async               except              lambda              with\n",
        "await               finally             nonlocal            yield\n",
        "break               for                 not\n",
        "'''"
      ],
      "metadata": {
        "id": "KrphGE33U9Gm"
      },
      "execution_count": null,
      "outputs": []
    },
    {
      "cell_type": "code",
      "source": [
        "'''4.Can keywords be used as variable names?\n",
        "    -Keywords cannot be used as variable names.\n",
        "'''"
      ],
      "metadata": {
        "id": "dPktFc-cWXh-"
      },
      "execution_count": null,
      "outputs": []
    },
    {
      "cell_type": "code",
      "source": [
        "'''5.What is mutability in Python?\n",
        "    -Mutable objects, such as lists and dictionaries, can be modified after creation.\n",
        "'''"
      ],
      "metadata": {
        "id": "zlSdfZd3WoRs"
      },
      "execution_count": null,
      "outputs": []
    },
    {
      "cell_type": "code",
      "source": [
        "'''6.Why are lists mutable, but tuples are immutable?\n",
        "    -Lists: It supports item assignment and we can change during the program's execution. Hence they are mutable.\n",
        "     Tuples: It does not support item assignment and guarantee that a collection of data remains constant.Hence they are immutable.\n",
        "'''"
      ],
      "metadata": {
        "id": "lZYlo70uXW09"
      },
      "execution_count": null,
      "outputs": []
    },
    {
      "cell_type": "code",
      "source": [
        "'''7.What is the difference between “==” and “is” operators in Python?\n",
        "    -The == operator checks for equality of values which means it evaluates whether the values of two objects are the same. On the other hand, is operator checks for identity, meaning it determines whether two variables point to the same object in memory.\n",
        "'''"
      ],
      "metadata": {
        "id": "T0xyWZIMX4u0"
      },
      "execution_count": null,
      "outputs": []
    },
    {
      "cell_type": "code",
      "source": [
        "'''8.What are logical operators in Python?\n",
        "    -Logical operators combine two or more operands and conduct logical comparisons on them.logical operators (and, or, not).\n",
        "'''"
      ],
      "metadata": {
        "id": "1jo5691dYth7"
      },
      "execution_count": null,
      "outputs": []
    },
    {
      "cell_type": "code",
      "source": [
        "'''9.What is type casting in Python?\n",
        "    Type casting, also known as type conversion, is the process of changing one data type to another in Python.\n",
        "'''"
      ],
      "metadata": {
        "id": "HBOvOXWXaO6p"
      },
      "execution_count": null,
      "outputs": []
    },
    {
      "cell_type": "code",
      "source": [
        "'''10.What is the difference between implicit and explicit type casting?\n",
        "    -Implicit : Python doesn not need to define a variable as string,float or integer implicitly.Implicit type casting is automatic.\n",
        "     Explicit : Explicit type casting is done by the programmer to convert datatype using builtin functions (str,int ,float,bool).\n",
        "\n",
        "'''"
      ],
      "metadata": {
        "id": "cTfF68Dsap0Z"
      },
      "execution_count": null,
      "outputs": []
    },
    {
      "cell_type": "code",
      "source": [
        "'''11.What is the purpose of conditional statements in Python?\n",
        "    -Conditionals in Python are used to execute code based on the evaluation of one or more conditions.It helps to code decissions based on some preconditions.\n",
        "'''"
      ],
      "metadata": {
        "id": "xrHKqHZIbkBp"
      },
      "execution_count": null,
      "outputs": []
    },
    {
      "cell_type": "code",
      "source": [
        "'''12.How does the elif statement work?\n",
        "    -\n",
        "'''"
      ],
      "metadata": {
        "id": "-GeUhlr6cLYb"
      },
      "execution_count": null,
      "outputs": []
    }
  ]
}